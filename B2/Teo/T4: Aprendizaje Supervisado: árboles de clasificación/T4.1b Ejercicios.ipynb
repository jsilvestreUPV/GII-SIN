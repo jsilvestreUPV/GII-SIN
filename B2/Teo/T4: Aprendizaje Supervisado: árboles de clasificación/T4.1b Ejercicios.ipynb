{
 "cells": [
  {
   "cell_type": "markdown",
   "metadata": {},
   "source": [
    "# T4.1 Ejercicios sobre árboles de clasificación"
   ]
  },
  {
   "cell_type": "markdown",
   "metadata": {},
   "source": [
    "# Ejercicio 1\n",
    "\n",
    "Considera el algoritmo de aprendizaje de árboles de clasificación aplicado a un problema de cuatro clases, $c=1,2,3,4$. El algoritmo ha llegado a un nodo $t$ con los siguientes datos: $2$ de la clase $1$, $16$ de la $2$, $8$ de la $3$ y $256$ de la $4$. La impureza de $t$, $\\mathcal{Y}(t)$, medida como la entropía de la distribución empírica de las probabilidades a posteriori de las clases en $t$, es:\n",
    "\n",
    "1. $0.00\\leq \\mathcal{I}(t)<0.50$\n",
    "2. $0.50\\leq \\mathcal{I}(t)<1.00$\n",
    "3. $1.00\\leq \\mathcal{I}(t)<1.50$\n",
    "4. $1.50\\leq \\mathcal{I}(t)$"
   ]
  },
  {
   "cell_type": "markdown",
   "metadata": {},
   "source": [
    "**Solución:** $\\;$ la 2.\n",
    "$$\\begin{align*}\n",
    "\\mathcal{I}(t) &= -\\sum_{c=1}^4 \\hat{P}(c\\mid t)\\,\\log_2 \\hat{P}(c\\mid t)\\\\\n",
    "&= -\\frac{2}{282}\\log_2 \\frac{2}{282} -\\frac{16}{282}\\log_2 \\frac{16}{282} -\\frac{8}{282}\\log_2 \\frac{8}{282}-\\frac{256}{282}\\log_2 \\frac{256}{282}=0.56\n",
    "\\end{align*}$$"
   ]
  },
  {
   "cell_type": "markdown",
   "metadata": {},
   "source": [
    "# Ejercicio 2\n",
    "\n",
    "Considera el algoritmo de aprendizaje de árboles de clasificación aplicado a un problema de dos clases, $c=A,B$. El algoritmo ha llegado a un nodo $t$ la impureza del cual, medida como la entropía de la distribución empírica de las probabilidades a posteriori de las clases en $t$, es $Y=0.72$. Cuál es el número de muestras de cada una de las clases en el nodo $t$?\n",
    "\n",
    "1. 2 de clase A y 32 de clase B\n",
    "2. 2 de clase A y 16 de clase B\n",
    "3. 4 de clase A y 32 de clase B\n",
    "4. 4 de clase A y 16 de clase B"
   ]
  },
  {
   "cell_type": "markdown",
   "metadata": {},
   "source": [
    "**Solución:** $\\;$ la 4."
   ]
  },
  {
   "cell_type": "markdown",
   "metadata": {},
   "source": [
    "# Ejercicio 3"
   ]
  },
  {
   "cell_type": "markdown",
   "metadata": {},
   "source": [
    "La figura siguiente muestra un conjunto de datos 2d de dos clases junto con una partición del espacio en $4$ regiones, así como cuatro posibles árboles de clasificación. Qué arbol de los cuatro es coherente con los datos y partición representados?"
   ]
  },
  {
   "cell_type": "markdown",
   "metadata": {},
   "source": [
    "<div align=center>\n",
    "<table><tr>\n",
    "<td style=\"border: none; text-align:center;\">\n",
    "\n",
    "**Datos y partición**\n",
    "\n",
    "<img src=\"dat/2023_01_17_Q6.svg\" width=\"250\"/></td>\n",
    "<td style=\"border: none; text-align:center;\">\n",
    "\n",
    "**Árbol 1**\n",
    "\n",
    "<img src=\"dat/2023_01_17_Q61.svg\" width=\"150\"/></td>\n",
    "<td style=\"border: none; text-align:center;\">\n",
    "\n",
    "**Árbol 2**\n",
    "\n",
    "<img src=\"dat/2023_01_17_Q62.svg\" width=\"150\"/></td>\n",
    "<td style=\"border: none; text-align:center;\">\n",
    "\n",
    "**Árbol 3**\n",
    "\n",
    "<img src=\"dat/2023_01_17_Q63.svg\" width=\"150\"/></td>\n",
    "<td style=\"border: none; text-align:center;\">\n",
    "\n",
    "**Árbol 4**\n",
    "\n",
    "<img src=\"dat/2023_01_17_Q64.svg\" width=\"150\"/></td>\n",
    "<tr></table>\n",
    "</div>"
   ]
  },
  {
   "cell_type": "markdown",
   "metadata": {},
   "source": [
    "\n",
    "**Solución:** $\\;$ El árbol 1. "
   ]
  },
  {
   "cell_type": "markdown",
   "metadata": {},
   "source": [
    "# Ejercicio 4\n",
    "\n",
    "Sean los siguientes 3 nodos de un árbol de clasificación con muestras pertenecientes a 3 clases: \n",
    "$$\\begin{array}{c|ccc}\n",
    "c & 1 & 2 & 3\\\\\\hline\n",
    "n_{1} & 2/12 & 5/12 & 5/12\\\\\n",
    "n_{2} & 3/11 & 4/11 & 4/11\\\\\n",
    "n_{3} & 5/11 & 3/11 & 3/11\\\\\n",
    "\\end{array}$$\n",
    "dónde cada fila indica la probabilidad \"a posteriori\" de cada clase en el nodo, ¿cuál de las siguientes desigualdades es cierta?\n",
    "1. $\\mathcal{I}(n_{1}) < \\mathcal{I}(n_{3}) < \\mathcal{I}(n_{2})$\n",
    "2. $\\mathcal{I}(n_{3}) < \\mathcal{I}(n_{2}) < \\mathcal{I}(n_{1})$\n",
    "3. $\\mathcal{I}(n_{1}) < \\mathcal{I}(n_{2}) < \\mathcal{I}(n_{3})$\n",
    "4. $\\mathcal{I}(n_{2}) < \\mathcal{I}(n_{3}) < \\mathcal{I}(n_{1})$"
   ]
  },
  {
   "cell_type": "markdown",
   "metadata": {},
   "source": [
    "**Solución:** $\\;$ la 1."
   ]
  },
  {
   "cell_type": "markdown",
   "metadata": {},
   "source": [
    "# Ejercicio 5\n",
    "\n",
    "Sea el siguiente conjunto de datos utilizado para entrenar un árbol de clasificación con 5 muestras bidimensionales que pertenecen a 2 clases:\n",
    "$$\\begin{array}{c|ccccc}\n",
    "n & 1 & 2 & 3 & 4 & 5\\\\\\hline\n",
    "x_{n1} & 2 & 5 & 4 & 3 & 3\\\\\n",
    "x_{n2} & 4 & 1 & 2 & 5 & 2\\\\\n",
    "c_n & 1 & 1 & 2 & 2 & 2\\\\\n",
    "\\end{array}$$\n",
    "¿Cuántas particiones diferentes se podrían generar en el nodo raíz? No consideres las particiones en las cuales todos los datos se asignan al mismo nodo hijo.\n",
    "1. $7$\n",
    "2. $8$\n",
    "3. $5$\n",
    "4. $6$"
   ]
  },
  {
   "cell_type": "markdown",
   "metadata": {},
   "source": [
    "**Solución:** $\\;$ la 4."
   ]
  }
 ],
 "metadata": {
  "kernelspec": {
   "display_name": "sin-2324",
   "language": "python",
   "name": "sin-2324"
  },
  "language_info": {
   "codemirror_mode": {
    "name": "ipython",
    "version": 3
   },
   "file_extension": ".py",
   "mimetype": "text/x-python",
   "name": "python",
   "nbconvert_exporter": "python",
   "pygments_lexer": "ipython3",
   "version": "3.8.10"
  }
 },
 "nbformat": 4,
 "nbformat_minor": 2
}
