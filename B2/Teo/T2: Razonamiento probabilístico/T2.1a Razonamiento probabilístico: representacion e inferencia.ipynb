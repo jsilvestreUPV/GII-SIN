{
 "cells": [
  {
   "cell_type": "markdown",
   "metadata": {},
   "source": [
    "# T1.1 Razonamiento probabilístico: representación e inferencia\n"
   ]
  },
  {
   "cell_type": "markdown",
   "metadata": {},
   "source": [
    "# Índice\n",
    "\n",
    "1. El problema de la calificación\n",
    "2. Representación probabilística\n",
    "3. Inferencia probabilística\n",
    "4. Independencia\n",
    "5. Teorema de Bayes"
   ]
  },
  {
   "cell_type": "markdown",
   "metadata": {},
   "source": [
    "# 1 El problema de la calificación\n",
    "\n",
    "**Problema de la calificación:** $\\;$ imposibilidad práctica de conocer y comprobar todas las **calificaciones** (condiciones) que habría que garantizar para asegurar el cumplimiento de una acción\n",
    "* Ejemplo: $\\;$ salir al aeropuerto 90 minutos antes del vuelo me permite llegar a tiempo SI no hay atascos Y no hay pinchazos Y ...\n",
    "* Ejemplo: $\\;$ un bote nos permite cruzar un río SI es un bote de remo Y tiene remos y escálamos Y no están rotos Y encajan Y ...\n",
    "\n",
    "**Incertidumbre:** $\\;$ los sistemas inteligentes actuales incluyen la **incertidumbre** como parte del conocimiento y la representan mediante **probabilidades** asociadas a los sucesos (proposiciones) de interés"
   ]
  },
  {
   "cell_type": "markdown",
   "metadata": {},
   "source": [
    "# 2 Representación probabilística\n",
    "\n",
    "<div><table border-collapse: collapse><tr>\n",
    "<td style=\"border: none; text-align:left; vertical-align:top; padding:0; margin:0;\" width=500>\n",
    "\n",
    "**Distribución de probabilidad conjunta:** $\\;$ de las variables aleatorias de interés para representar el conocimiento probabilístico\n",
    "\n",
    "**Ejemplo del dentista:** $\\;$ conocimiento para diagnosticar caries\n",
    "\n",
    "*Variables aleatorias de interés:*\n",
    "\n",
    "\\begin{align*}\n",
    "&\\text{Dolor:} & D&\\in\\{0,1\\}\\\\\n",
    "&\\text{Caries:}& C&\\in\\{0,1\\}\\\\\n",
    "&\\text{Hueco:} & H&\\in\\{0,1\\}\n",
    "\\end{align*}\n",
    "\n",
    "*Representación:* $\\;$ tabla a la derecha con\n",
    "$$P(D=d, C=c, H=h)\\quad\\text{para todo}\\;d, c, h\\in\\{0,1\\}$$\n",
    "\n",
    "</td><td style=\"border: none; text-align:center; vertical-align:top; padding:0; margin:0;\" width=400>\n",
    "\n",
    "<center>\n",
    "\n",
    "|$d$|$c$|$b$|$P$|\n",
    "|:-:|:-:|:-:|:-:|\n",
    "|$0$|$0$|$0$|$0.576$|\n",
    "|$0$|$0$|$1$|$0.008$|\n",
    "|$0$|$1$|$0$|$0.144$|\n",
    "|$0$|$1$|$1$|$0.072$|\n",
    "|$1$|$0$|$0$|$0.064$|\n",
    "|$1$|$0$|$1$|$0.012$|\n",
    "|$1$|$1$|$0$|$0.016$|\n",
    "|$1$|$1$|$1$|$0.108$|\n",
    "||||$1.000$|\n",
    "\n",
    "</center>\n",
    "\n",
    "</td></tr></table></div>\n",
    "\n",
    "\n",
    "\n",
    "\n"
   ]
  },
  {
   "cell_type": "code",
   "execution_count": 1,
   "metadata": {},
   "outputs": [
    {
     "data": {
      "text/plain": [
       "array([[0.   , 0.   , 0.   , 0.576],\n",
       "       [0.   , 0.   , 1.   , 0.008],\n",
       "       [0.   , 1.   , 0.   , 0.144],\n",
       "       [0.   , 1.   , 1.   , 0.072],\n",
       "       [1.   , 0.   , 0.   , 0.064],\n",
       "       [1.   , 0.   , 1.   , 0.012],\n",
       "       [1.   , 1.   , 0.   , 0.016],\n",
       "       [1.   , 1.   , 1.   , 0.108]])"
      ]
     },
     "execution_count": 1,
     "metadata": {},
     "output_type": "execute_result"
    }
   ],
   "source": [
    "import numpy as np\n",
    "T = np.array([[0,0,0,.576], [0,0,1,.008], [0,1,0,.144], [0,1,1,.072], \n",
    "              [1,0,0,.064], [1,0,1,.012], [1,1,0,.016], [1,1,1,.108]])\n",
    "T"
   ]
  },
  {
   "cell_type": "markdown",
   "metadata": {},
   "source": [
    "# 3 Inferencia probabilística\n",
    "\n",
    "**Reglas suma y producto:** $\\;$ reglas básicas para calcular la probabilidad de cualquier **suceso** (**proposición**)\n",
    "de interés a partir de la distribución conjunta\n",
    "$$P(x) = \\sum_y P(x,y)\\qquad\\text{y}\\qquad P(x,y) = P(x)\\,P(y\\mid x)$$\n",
    "\n",
    "**Observación importante:** $\\;$ en general no es necesario conocer la tabla completa de probabilidades conjuntas para calcular la probabilidad de un suceso dado mediante las reglas suma y producto\n",
    "\n",
    "**Ejemplo del dentista:** $\\;$ cálculo de la probabilidad de observar...\n",
    "* Caries y hueco (a la vez): $\\displaystyle\\;P(c=1,h=1) = \\sum_{d=0,1} P(d,c=1,h=1) = 0.180$\n",
    "* Hueco: $\\displaystyle\\;P(h=1) = \\sum_{d=0,1} \\sum_{c=0,1} P(d,c,h=1) = 0.200$\n",
    "* Caries después de observar hueco: $\\displaystyle\\;P(c=1\\mid h=1) = \\frac{P(c=1,h=1)}{P(h=1)} = \\frac{0.180}{0.200} = 0.900$"
   ]
  },
  {
   "cell_type": "code",
   "execution_count": 2,
   "metadata": {},
   "outputs": [
    {
     "name": "stdout",
     "output_type": "stream",
     "text": [
      "Pc1b1 = 0.180  Pb1 = 0.200  Pc1Db1 = 0.900\n"
     ]
    }
   ],
   "source": [
    "Pc1b1 = np.sum(T[(T[:,1]==1) & (T[:,2]==1),-1])\n",
    "Pb1 = np.sum(T[T[:,2]==1,-1])\n",
    "Pc1Db1 = Pc1b1/Pb1\n",
    "print(f\"Pc1b1 = {Pc1b1:.3f}  Pb1 = {Pb1:.3f}  Pc1Db1 = {Pc1Db1:.3f}\")"
   ]
  },
  {
   "cell_type": "markdown",
   "metadata": {},
   "source": [
    "# 4 Independencia\n",
    "\n",
    "**Variables independientes:** $\\;$ dos variables $\\,x\\,$ y $\\,y\\,$ son **independientes** si\n",
    "$$P(x,y) = P(x)\\,P(y) \\quad\\text{o}\\quad P(x\\mid y) = P(x) \\quad\\text{o}\\quad P(y\\mid x) = P(y)$$\n",
    "\n",
    "**Conocimiento experto:** $\\;$ la independencia puede establecerse por conocimiento experto y conveniencia\n",
    "\n",
    "**Ejemplo del dentista:**\n",
    "* Consideramos una nueva variable con el tiempo que hace cuando el paciente visita el dentista\n",
    "$$T\\in\\{\\text{sol}, \\text{nubes}, \\text{lluvia}, \\text{nieve}\\}$$\n",
    "* Asumimos que las tres variables que ya teníamos son independientes del tiempo que hace\n",
    "$$P(d,c,h,t)=P(t)\\,P(d,c,h\\mid t)=P(t)\\,P(d,c,h)$$\n",
    "* Así reducimos el número de probabilidades a almacenar: $\\;32\\,$ vs $\\,4+8$"
   ]
  },
  {
   "cell_type": "markdown",
   "metadata": {},
   "source": [
    "# 5 Teorema de Bayes\n",
    "\n",
    "**Teorema de Bayes:** $\\;$ permite actualizar nuestro conocimiento sobre una hipótesis $y$ después de observar una nueva evidencia $x$\n",
    "$$P(y\\mid x) ~=~ \\frac{P(x,y)}{P(x)} ~=~ P(y)\\,\\frac{P(x\\mid y)}{P(x)}$$\n",
    "* De otra manera: $P(y\\mid x)$ es la probabilidad de que se produzca el efecto $y$ después de observar que se ha producido la causa $x$\n",
    "\n",
    "**Ejemplo del dentista:** $\\;$\n",
    "* Sabemos que la probabilidad de caries es: $\\,P(c=1)=0.34$\n",
    "* Sabemos que la probabilidad de dolor es: $\\,P(d=1)=0.20$\n",
    "* Sabemos que la probabilidad de dolor después de observar caries es: $\\,P(d=1\\mid c=1)=0.36$\n",
    "* ¿Cúal es la probabilidad de caries después de observar dolor, $\\,P(c=1\\mid d=1)$?\n",
    "$$P(c=1\\mid d=1) = P(c=1)\\,\\frac{P(d=1\\mid c=1)}{P(d=1)} = 0.34\\,\\frac{0.36}{0.20} = 0.61$$"
   ]
  },
  {
   "cell_type": "code",
   "execution_count": 3,
   "metadata": {},
   "outputs": [
    {
     "name": "stdout",
     "output_type": "stream",
     "text": [
      "Pc1Dd1 = 0.61\n"
     ]
    }
   ],
   "source": [
    "Pc1 = 0.34; Pd1 = 0.20; Pd1c1 = 0.36; Pc1Dd1 = Pc1 * Pd1c1 / Pb1; print(f\"Pc1Dd1 = {Pc1Dd1:.2f}\")"
   ]
  }
 ],
 "metadata": {
  "kernelspec": {
   "display_name": "Python 3",
   "language": "python",
   "name": "python3"
  },
  "language_info": {
   "codemirror_mode": {
    "name": "ipython",
    "version": 3
   },
   "file_extension": ".py",
   "mimetype": "text/x-python",
   "name": "python",
   "nbconvert_exporter": "python",
   "pygments_lexer": "ipython3",
   "version": "3.10.7"
  },
  "orig_nbformat": 4
 },
 "nbformat": 4,
 "nbformat_minor": 2
}
