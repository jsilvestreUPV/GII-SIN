{
 "cells": [
  {
   "cell_type": "markdown",
   "metadata": {},
   "source": [
    "# T3.3 Ejercicios sobre estimación del error"
   ]
  },
  {
   "cell_type": "markdown",
   "metadata": {},
   "source": [
    "# Ejercicio 1\n",
    "\n",
    "Sea un problema de clasificación en 4 clases para datos de tipo $\\boldsymbol{x}=(x_1,x_2)^t\\in\\{0,1\\}^2$, con las distribuciones de probabilidad de la tabla:\n",
    "\n",
    "$$\\begin{array}{|cc|cccc|c|}\\hline%\n",
    "x_1&x_2&P(c=1|\\boldsymbol{x})&P(c=2|\\boldsymbol{x})&P(c=3|\\boldsymbol{x})&P(c=4|\\boldsymbol{x})&P(\\boldsymbol{x})\\\\\\hline\n",
    "0 & 0 & 0.1 & 0.3 & 0.1 & 0.5 & 0 \\\\\n",
    "0 & 1 & 0.2 & 0.5 & 0.3 & 0 & 0.1 \\\\\n",
    "1 & 0 & 0.2 & 0.4 & 0.1 & 0.3 & 0.3 \\\\\n",
    "1 & 1 & 0.1 & 0.3 & 0.3 & 0.3 & 0.6 \\\\\n",
    "\\hline\n",
    "\\end{array}$$\n",
    "\n",
    "Indica en qué intervalo se encuentra el error de Bayes, $\\varepsilon^*$:\n",
    "1. $\\varepsilon^* < 0.40$.\n",
    "2. $0.40 \\leq \\varepsilon^* < 0.45$.\n",
    "3. $0.45 \\leq \\varepsilon^* < 0.50$.\n",
    "4. $0.50 \\leq \\varepsilon^*$."
   ]
  },
  {
   "cell_type": "markdown",
   "metadata": {},
   "source": [
    "### Solución\n",
    "\n",
    "El error de Bayes $\\varepsilon^*$ viene determinado por la regla de decisión MAP (máxima a posteriori), es decir:\n",
    "\n",
    "$$\\quad c^*(\\boldsymbol{x})=\\operatorname*{argmax}_c\\; P(c\\mid\\boldsymbol{x})$$\n",
    "\n",
    "De modo que, para cada muestra, el error (a posteriori) es:\n",
    "\n",
    "$$\\quad\\varepsilon(c^*(\\boldsymbol{x}))=1-P(c^*(\\boldsymbol{x})\\mid\\boldsymbol{x})=1-\\max_c P(c\\mid\\boldsymbol{x})$$\n",
    "\n",
    "Con él, podremos calcular el error de Bayes (a priori):\n",
    "\n",
    "$$\\begin{align*}\n",
    "\\varepsilon^* &= \\mathbb{E}_{\\boldsymbol{x}}[\\varepsilon(c^*(\\boldsymbol{x}))]=\\sum_{\\boldsymbol{x}}P(\\boldsymbol{x})\\,\\varepsilon(c^*(\\boldsymbol{x}))\\\\\n",
    "              &= 0 \\cdot (1-0.5) + 0.1 \\cdot (1-0.5) + 0.3 \\cdot (1-0.4) + 0.6 \\cdot (1-0.3)\\\\\n",
    "              &= 0.05 + 0.18 + 0.42 = 0.65 \n",
    "\\end{align*}$$\n",
    "\n",
    "\n",
    "**Respuesta correcta:** la 4."
   ]
  },
  {
   "cell_type": "markdown",
   "metadata": {},
   "source": [
    "# Ejercicio 2\n",
    "\n",
    "Sea un problema de clasificación en 3 classes pera datos de tipo $\\boldsymbol{x}=(x_1,x_2)^t\\in\\{0,1\\}^2$, con las distribuciones de probabilidad de la tabla:\n",
    "\n",
    "$$\\begin{array}{|cc|ccc|c|c|}\\hline%\n",
    "x_1&x_2&P(c=1\\mid\\boldsymbol{x})&P(c=2\\mid\\boldsymbol{x})&P(c=3\\mid\\boldsymbol{x})&P(\\boldsymbol{x})&c(\\boldsymbol{x})\\\\ \\hline\n",
    "0 & 0 & 0.2 & 0.1 & 0.7 & 0.2 & 2 \\\\\n",
    "0 & 1 & 0.4 & 0.3 & 0.3 & 0 & 1 \\\\\n",
    "1 & 0 & 0.3 & 0.4 & 0.3 & 0.4 & 3 \\\\\n",
    "1 & 1 & 0.4 & 0.4 & 0.2 & 0.4 & 1 \\\\\\hline\n",
    "\\end{array}$$\n",
    "\n",
    "Indica en qué intervalo se encuentra el error del clasificador $c(\\boldsymbol{x})$ dado en la tabla, $\\varepsilon$:\n",
    "\n",
    "1. $\\varepsilon < 0.25$\n",
    "2. $0.25 \\leq \\varepsilon < 0.50$\n",
    "3. $0.50 \\leq \\varepsilon < 0.75$\n",
    "4. $0.75 \\leq \\varepsilon$"
   ]
  },
  {
   "cell_type": "markdown",
   "metadata": {},
   "source": [
    "### Solución\n",
    "\n",
    "El error teórico del clasificador $c(\\boldsymbol{x})$ dado en la tabla, $\\varepsilon$, viene dado por la decisión reseñada en la última columna para cada muestra, de modo que el error (a posteriori) es:\n",
    "\n",
    "$$\\varepsilon(c(\\boldsymbol{x}))=1-P(c(\\boldsymbol{x})\\mid\\boldsymbol{x})$$\n",
    "\n",
    "Con él, podremos calcular el error del clasificador (a priori):\n",
    "\n",
    "$$\\begin{align*}\n",
    "\\varepsilon&=\\mathbb{E}_{\\boldsymbol{x}}[\\varepsilon(c(\\boldsymbol{x}))]=\\sum_{\\boldsymbol{x}}P(\\boldsymbol{x})\\,\\varepsilon(c(\\boldsymbol{x}))\\\\\n",
    "              &= 0.2 \\cdot (1-0.1) + 0 \\cdot (1-0.4) + 0.4 \\cdot (1-0.3) + 0.4 \\cdot (1-0.4)\\\\\n",
    "              &= 0.18 + 0.28 + 0.24 = 0.70 \n",
    "\\end{align*}$$\n",
    "\n",
    "**Respuesta correcta:** la 3."
   ]
  },
  {
   "cell_type": "markdown",
   "metadata": {},
   "source": [
    "# Ejercicio 3\n",
    "\n",
    "La probabilidad de error de un clasificador se estima que es del $20\\%$. Determina cuál es el nombre mínimo de muestras de test necesario, $M$, para conseguir que el intervalo de confianza al $95\\%$ de dicho error no supere el $\\pm 1\\%$; esto es, $I = [19\\%,21\\%]$:\n",
    "1. $M < 2000$\n",
    "2. $2000\\leq M < 3500$\n",
    "3. $3500\\leq M < 5000$\n",
    "4. $M \\geq 5000$"
   ]
  },
  {
   "cell_type": "markdown",
   "metadata": {},
   "source": [
    "### Solución\n",
    "\n",
    "Se nos pide determinar el número de muestras $M$ necesario para calcular un intervalo de confianza con radio $\\hat{r} = 0.01$. Por tanto:\n",
    "\n",
    "$$\\begin{align*}\n",
    "1.96 \\sqrt{\\frac{\\hat{\\varepsilon}(1-\\hat{\\varepsilon})}{M}} = \\hat{r}\\;; \\quad\n",
    "1.96 \\sqrt{\\frac{0.2 \\cdot 0.8}{M}} = 0.01\\;; \\quad \\sqrt{\\frac{0.16}{M}} &= \\frac{0.01}{1.96}\\;; \\quad \\frac{0.16}{M} &= \\left( \\frac{0.01}{1.96} \\right)^2\\;; \\quad M = 6146.56 \\approx 6147 \\\\\n",
    "\n",
    "\\end{align*}$$\n",
    "\n",
    "**Respuesta correcta:** la 4."
   ]
  },
  {
   "cell_type": "markdown",
   "metadata": {},
   "source": []
  }
 ],
 "metadata": {
  "language_info": {
   "name": "python"
  }
 },
 "nbformat": 4,
 "nbformat_minor": 2
}
