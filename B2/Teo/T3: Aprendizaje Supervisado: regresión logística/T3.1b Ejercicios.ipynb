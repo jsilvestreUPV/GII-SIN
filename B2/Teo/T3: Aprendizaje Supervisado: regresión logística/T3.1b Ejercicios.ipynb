{
 "cells": [
  {
   "cell_type": "markdown",
   "metadata": {},
   "source": [
    "# T3.1 Ejercicios sobre funciones discriminantes"
   ]
  },
  {
   "cell_type": "markdown",
   "metadata": {},
   "source": [
    "### Ejercicio 1\n",
    "\n",
    "Dado el clasificador en 2 clases definido\n",
    "por sus vectores de pesos $ \\boldsymbol{w}_1 =(-2,3,3)^t,\\; \\boldsymbol{w}_2 =(0,2,-2)^t$ en notación homogénea,\n",
    "cúal de los siguientes conjuntos de vectores **no** define un clasificador equivalente al dado?\n",
    "1. $\\boldsymbol{w}_1 =(1,3,3)^t,\\; \\boldsymbol{w}_2 =(3,2,-2)^t$\n",
    "2. $\\boldsymbol{w}_1 =(-4,6,6)^t,\\; \\boldsymbol{w}_2 =(0,4,-4)^t$\n",
    "3. $\\boldsymbol{w}_1 =(-1,6,6)^t,\\; \\boldsymbol{w}_2 =(3,4,-4)^t$\n",
    "4. $\\boldsymbol{w}_1 =(2,-3,-3)^t,\\; \\boldsymbol{w}_2 =(0,-2,2)^t$"
   ]
  },
  {
   "cell_type": "markdown",
   "metadata": {},
   "source": [
    "**Solución:** $\\;$ la 4."
   ]
  },
  {
   "cell_type": "markdown",
   "metadata": {},
   "source": [
    "### Ejercicio 2\n",
    "\n",
    "Sea el clasificador en dos clases definido por la frontera y regiones de decisión de la figura:"
   ]
  },
  {
   "cell_type": "code",
   "execution_count": 4,
   "metadata": {},
   "outputs": [
    {
     "data": {
      "image/png": "[encoded data removed]",
      "text/plain": [
       "<Figure size 200x200 with 1 Axes>"
      ]
     },
     "metadata": {},
     "output_type": "display_data"
    }
   ],
   "source": [
    "import numpy as np; \n",
    "import matplotlib.pyplot as plt;\n",
    "plt.figure(figsize=(2, 2)); \n",
    "ticks = np.arange(0, 1.1, 0.2); plt.xticks(ticks); plt.yticks(ticks); \n",
    "plt.grid();\n",
    "plt.plot((0, 1), (0, 1)); \n",
    "plt.text(0.1, 0.6, 'Región 2'); \n",
    "plt.text(0.6, 0.35, 'Región 1');"
   ]
  },
  {
   "cell_type": "markdown",
   "metadata": {},
   "source": [
    "¿Cúal de los siguientes vectores de pesos (en notación homogénea) define un clasificador equivalente al dado?\n",
    "1. $\\boldsymbol{w}_1=(0,-2,0)^t\\;$ y $\\;\\boldsymbol{w}_2=(0,0,-2)^t$.\n",
    "2. $\\boldsymbol{w}_1=(0,2,0)^t\\;$ y $\\;\\boldsymbol{w}_2=(0,0,2)^t$.\n",
    "3. $\\boldsymbol{w}_1=(0,0,2)^t\\;$ y $\\;\\boldsymbol{w}_2=(0,2,0)^t$.\n",
    "4. Todos los vectores de pesos anteriores definen clasificadores equivalentes.\n"
   ]
  },
  {
   "cell_type": "markdown",
   "metadata": {},
   "source": [
    "**Solución:** $\\;$ la 2."
   ]
  },
  {
   "cell_type": "markdown",
   "metadata": {},
   "source": [
    "### Ejercicio 3\n",
    "\n",
    "Sea $\\boldsymbol{x}$ un objeto a clasificar en una clase de $C$ posibles. Indica qué de los siguientes clasificadores **no** es de error mínimo (o escoge la última opción si los tres son de error mínimo):\n",
    "1. $c(\\boldsymbol{x})=\\operatorname*{argmax}\\limits_{c=1,\\dotsc,C}\\;\\log p(c) + \\log p(\\boldsymbol{x}|c) - \\log p(\\boldsymbol{x})$\n",
    "2. $c(\\boldsymbol{x})=\\operatorname*{argmax}\\limits_{ c=1,\\dotsc,C}\\;-\\log p(\\boldsymbol{x},c)$\n",
    "3. $c(\\boldsymbol{x})=\\operatorname*{argmax}\\limits_{c=1,\\dotsc,C}\\;\\log p(c) + \\log p(\\boldsymbol{x}|c)$\n",
    "4. Los tres clasificadores anteriores son de error mínimo"
   ]
  },
  {
   "cell_type": "markdown",
   "metadata": {},
   "source": [
    "**Solución:** $\\;$ la 2."
   ]
  }
 ],
 "metadata": {
  "kernelspec": {
   "display_name": "sin-2324",
   "language": "python",
   "name": "sin-2324"
  },
  "language_info": {
   "codemirror_mode": {
    "name": "ipython",
    "version": 3
   },
   "file_extension": ".py",
   "mimetype": "text/x-python",
   "name": "python",
   "nbconvert_exporter": "python",
   "pygments_lexer": "ipython3",
   "version": "3.8.10"
  }
 },
 "nbformat": 4,
 "nbformat_minor": 2
}
